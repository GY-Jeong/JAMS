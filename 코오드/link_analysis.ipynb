{
 "cells": [
  {
   "cell_type": "code",
   "execution_count": 1,
   "metadata": {},
   "outputs": [],
   "source": [
    "import numpy as np\n",
    "import json\n",
    "\n",
    "\n",
    "nine_to_ten = np.load('./adj_matrix_icd9_to_icd10.npy')\n",
    "ten_to_nine = np.load('./adj_matrix_icd10_to_icd9.npy')\n",
    "\n",
    "with open('./target2index_mimiciv_icd9.json','r')as f:\n",
    "    nine_code_to_idx = json.load(f)\n",
    "\n",
    "nine_code_map = {}\n",
    "for key in nine_code_to_idx.keys():\n",
    "    nine_code_map[nine_code_to_idx[key]] = key\n",
    "\n",
    "with open('./target2index_mimiciv_icd10.json','r')as f:\n",
    "    ten_code_to_idx = json.load(f)\n",
    "\n",
    "ten_code_map = {}\n",
    "for key in ten_code_to_idx.keys():\n",
    "    ten_code_map[ten_code_to_idx[key]] = key"
   ]
  },
  {
   "cell_type": "code",
   "execution_count": 2,
   "metadata": {},
   "outputs": [],
   "source": [
    "from collections import Counter\n",
    "nine_to_ten_link_dict = {}\n",
    "\n",
    "icd_9_code_group = {'0':[],'1':[],'2':[]}\n",
    "for idx, line  in enumerate(nine_to_ten):\n",
    "    counter = Counter(line)\n",
    "    link_cnt = counter[0.5] + counter[1]\n",
    "    if link_cnt == 0:\n",
    "        icd_9_code_group['0'].append(nine_code_map[idx])\n",
    "    elif link_cnt == 1:\n",
    "        icd_9_code_group['1'].append(nine_code_map[idx])\n",
    "    else:\n",
    "        icd_9_code_group['2'].append(nine_code_map[idx])\n",
    "\n",
    "    nine_to_ten_link_dict[nine_code_map[idx]] = link_cnt\n",
    "\n",
    "\n",
    "ten_to_nine_link_dict = {}\n",
    "icd_10_code_group = {'0':[],'1':[],'2':[]}\n",
    "for idx, line  in enumerate(ten_to_nine):\n",
    "    counter = Counter(line)\n",
    "    link_cnt = counter[0.5] + counter[1]\n",
    "    if link_cnt == 0:\n",
    "        icd_10_code_group['0'].append(ten_code_map[idx])\n",
    "    elif link_cnt == 1:\n",
    "        icd_10_code_group['1'].append(ten_code_map[idx])\n",
    "    else:\n",
    "        icd_10_code_group['2'].append(ten_code_map[idx])\n",
    "        \n",
    "    ten_to_nine_link_dict[ten_code_map[idx]] = link_cnt\n"
   ]
  },
  {
   "cell_type": "code",
   "execution_count": 3,
   "metadata": {},
   "outputs": [
    {
     "name": "stdout",
     "output_type": "stream",
     "text": [
      "                 1\n",
      "count  6150.000000\n",
      "mean      1.053333\n",
      "std       2.299515\n",
      "min       0.000000\n",
      "0%        0.000000\n",
      "...            ...\n",
      "96%       4.000000\n",
      "97%       4.000000\n",
      "98%       5.000000\n",
      "99%       7.000000\n",
      "max      90.000000\n",
      "\n",
      "[105 rows x 1 columns]\n"
     ]
    }
   ],
   "source": [
    "import pandas as pd\n",
    "\n",
    "results_1 =sorted(nine_to_ten_link_dict.items(),key=lambda x: x[1],reverse=True)\n",
    "ntt_counts = pd.DataFrame(results_1)\n",
    "print(ntt_counts.describe(percentiles=np.arange(0,1,0.01)))"
   ]
  },
  {
   "cell_type": "code",
   "execution_count": 9,
   "metadata": {},
   "outputs": [
    {
     "data": {
      "text/plain": [
       "1     2982\n",
       "0     2240\n",
       "2      507\n",
       "3      152\n",
       "4      110\n",
       "5       47\n",
       "6       34\n",
       "7       17\n",
       "8       11\n",
       "11       9\n",
       "10       6\n",
       "16       5\n",
       "9        4\n",
       "17       3\n",
       "22       2\n",
       "19       2\n",
       "20       2\n",
       "24       2\n",
       "13       2\n",
       "90       1\n",
       "12       1\n",
       "14       1\n",
       "54       1\n",
       "18       1\n",
       "21       1\n",
       "23       1\n",
       "26       1\n",
       "27       1\n",
       "30       1\n",
       "38       1\n",
       "50       1\n",
       "15       1\n",
       "Name: 1, dtype: int64"
      ]
     },
     "execution_count": 9,
     "metadata": {},
     "output_type": "execute_result"
    }
   ],
   "source": [
    "ntt_counts[1].value_counts()"
   ]
  },
  {
   "cell_type": "code",
   "execution_count": 21,
   "metadata": {},
   "outputs": [
    {
     "data": {
      "text/html": [
       "<div>\n",
       "<style scoped>\n",
       "    .dataframe tbody tr th:only-of-type {\n",
       "        vertical-align: middle;\n",
       "    }\n",
       "\n",
       "    .dataframe tbody tr th {\n",
       "        vertical-align: top;\n",
       "    }\n",
       "\n",
       "    .dataframe thead th {\n",
       "        text-align: right;\n",
       "    }\n",
       "</style>\n",
       "<table border=\"1\" class=\"dataframe\">\n",
       "  <thead>\n",
       "    <tr style=\"text-align: right;\">\n",
       "      <th></th>\n",
       "      <th>1</th>\n",
       "    </tr>\n",
       "  </thead>\n",
       "  <tbody>\n",
       "    <tr>\n",
       "      <th>count</th>\n",
       "      <td>2982.0</td>\n",
       "    </tr>\n",
       "    <tr>\n",
       "      <th>mean</th>\n",
       "      <td>1.0</td>\n",
       "    </tr>\n",
       "    <tr>\n",
       "      <th>std</th>\n",
       "      <td>0.0</td>\n",
       "    </tr>\n",
       "    <tr>\n",
       "      <th>min</th>\n",
       "      <td>1.0</td>\n",
       "    </tr>\n",
       "    <tr>\n",
       "      <th>25%</th>\n",
       "      <td>1.0</td>\n",
       "    </tr>\n",
       "    <tr>\n",
       "      <th>50%</th>\n",
       "      <td>1.0</td>\n",
       "    </tr>\n",
       "    <tr>\n",
       "      <th>75%</th>\n",
       "      <td>1.0</td>\n",
       "    </tr>\n",
       "    <tr>\n",
       "      <th>max</th>\n",
       "      <td>1.0</td>\n",
       "    </tr>\n",
       "  </tbody>\n",
       "</table>\n",
       "</div>"
      ],
      "text/plain": [
       "            1\n",
       "count  2982.0\n",
       "mean      1.0\n",
       "std       0.0\n",
       "min       1.0\n",
       "25%       1.0\n",
       "50%       1.0\n",
       "75%       1.0\n",
       "max       1.0"
      ]
     },
     "execution_count": 21,
     "metadata": {},
     "output_type": "execute_result"
    }
   ],
   "source": [
    "ntt_counts[ntt_counts[1] == 1].describe()"
   ]
  },
  {
   "cell_type": "code",
   "execution_count": 10,
   "metadata": {},
   "outputs": [
    {
     "name": "stdout",
     "output_type": "stream",
     "text": [
      "                 1\n",
      "count  7942.000000\n",
      "mean      1.059683\n",
      "std       0.626585\n",
      "min       0.000000\n",
      "0%        0.000000\n",
      "...            ...\n",
      "96%       2.000000\n",
      "97%       2.000000\n",
      "98%       3.000000\n",
      "99%       3.000000\n",
      "max       8.000000\n",
      "\n",
      "[105 rows x 1 columns]\n"
     ]
    }
   ],
   "source": [
    "import pandas as pd\n",
    "\n",
    "results_2 =sorted(ten_to_nine_link_dict.items(),key=lambda x: x[1],reverse=True)\n",
    "ntt_counts_2 = pd.DataFrame(results_2)\n",
    "print(ntt_counts_2.describe(percentiles=np.arange(0,1,0.01)))"
   ]
  },
  {
   "cell_type": "code",
   "execution_count": 12,
   "metadata": {},
   "outputs": [
    {
     "data": {
      "text/plain": [
       "931"
      ]
     },
     "execution_count": 12,
     "metadata": {},
     "output_type": "execute_result"
    }
   ],
   "source": [
    "ntt_counts_2[1].value_counts()[0]"
   ]
  },
  {
   "cell_type": "code",
   "execution_count": 32,
   "metadata": {},
   "outputs": [],
   "source": [
    "icd_9_code_group\n",
    "with open('./icd_9_code_link_group.json','w',encoding='utf8')as f:\n",
    "    json.dump(icd_9_code_group,f,ensure_ascii=False, indent='\\t')"
   ]
  },
  {
   "cell_type": "code",
   "execution_count": 33,
   "metadata": {},
   "outputs": [],
   "source": [
    "icd_10_code_group\n",
    "with open('./icd_10_code_link_group.json','w',encoding='utf8')as f:\n",
    "    json.dump(icd_10_code_group,f,ensure_ascii=False, indent='\\t')"
   ]
  },
  {
   "cell_type": "code",
   "execution_count": null,
   "metadata": {},
   "outputs": [],
   "source": [
    "ICD-9 LAAT ['0','1','1+'] [19.3,28.3,37.6],[21.1,31.5,41.5]\n",
    "ICD-10 LAAT ['0','1','1+'] [13.4,21.3,18.2][14.7,25.2,21.6]\n",
    "\n",
    "\n",
    "ICD-9 LAAT ['1 - 100','100 - 1000','1000 -'] [17.8, 41.0, 58.3],[21.0, 43.4, 58.7]\n",
    "ICD-10 LAAT ['1 - 100','100 - 1000','1000 -'] [14.4, 39.7, 58.1][18.1, 42.9, 59.2]"
   ]
  },
  {
   "cell_type": "code",
   "execution_count": 42,
   "metadata": {},
   "outputs": [
    {
     "data": {
      "text/plain": [
       "3.8999999999999986"
      ]
     },
     "execution_count": 42,
     "metadata": {},
     "output_type": "execute_result"
    }
   ],
   "source": [
    "41.5-37.6"
   ]
  },
  {
   "cell_type": "code",
   "execution_count": 44,
   "metadata": {},
   "outputs": [
    {
     "data": {
      "text/plain": [
       "3.400000000000002"
      ]
     },
     "execution_count": 44,
     "metadata": {},
     "output_type": "execute_result"
    }
   ],
   "source": [
    "21.6-18.2"
   ]
  }
 ],
 "metadata": {
  "kernelspec": {
   "display_name": "test_env",
   "language": "python",
   "name": "python3"
  },
  "language_info": {
   "codemirror_mode": {
    "name": "ipython",
    "version": 3
   },
   "file_extension": ".py",
   "mimetype": "text/x-python",
   "name": "python",
   "nbconvert_exporter": "python",
   "pygments_lexer": "ipython3",
   "version": "3.10.11"
  },
  "orig_nbformat": 4
 },
 "nbformat": 4,
 "nbformat_minor": 2
}
